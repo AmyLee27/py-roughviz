{
 "cells": [
  {
   "cell_type": "code",
   "execution_count": 1,
   "metadata": {},
   "outputs": [],
   "source": [
    "import sys\n",
    "sys.path.append(\"..\")\n",
    "\n",
    "from roughviz.charts.bar import Bar"
   ]
  },
  {
   "cell_type": "code",
   "execution_count": 15,
   "metadata": {},
   "outputs": [
    {
     "data": {
      "text/html": [
       "<html>\n",
       "<body>\n",
       "\n",
       "<div id=d24cc43df25d44c79979e89b256f4cb8></div>\n",
       "\n",
       "<script src=\"https://requirejs.org/docs/release/2.3.6/minified/require.js\"></script>\n",
       "<script>\n",
       "require.config({paths: {roughViz: \"https://unpkg.com/rough-viz@1.0.5/dist/roughviz.min\"}});\n",
       "require([\"roughViz\"], function(roughViz) {\n",
       "\n",
       "new roughViz.Bar(\n",
       "  {\"data\": {\"labels\": [\"North\", \"South\", \"East\", \"West\"], \"values\": [10, 5, 8, 3]}, \"title\": \"Regions\", \"width\": 800, \"height\": 600, \"interactive\": true, \"bowing\": 0.2, \"fill_style\": \"cross-hatch\", \"fill_weight\": 0, \"stroke_width\": 1, \"roughness\": 1, \"xLabel\": \"\", \"yLabel\": \"\", \"axisFontSize\": \"1.5rem\", \"labelFontSize\": \"2rem\", \"color\": \"skyblue\", \"axisRoughness\": 0.5, \"highlight\": \"green\", \"innerStrokeWidth\": 0, \"padding\": 0.1, \"simplification\": 0.2, \"stroke\": \"black\", \"element\": \"#d24cc43df25d44c79979e89b256f4cb8\"}\n",
       ");\n",
       "\tvar text = document.querySelectorAll(\".xAxisd24cc43df25d44c79979e89b256f4cb8 .tick text\");\n",
       "\tvar i;\n",
       "\tfor (i = 0; i < text.length; i++) {\n",
       "\t\ttext[i].setAttribute(\"transform\", \"rotate(0)\");\n",
       "\t\ttext[i].style.textAnchor=\"middle\";\n",
       "\t}\n",
       "\tdocument.getElementById(\"d24cc43df25d44c79979e89b256f4cb8\").style.height = \"px\";\n",
       "\tdocument.querySelector(\"#d24cc43df25d44c79979e89b256f4cb8 svg\").style.height = \"px\";\n",
       "});\n",
       "</script>\n",
       "\n",
       "</body>\n",
       "</html>"
      ],
      "text/plain": [
       "<IPython.core.display.HTML object>"
      ]
     },
     "metadata": {},
     "output_type": "display_data"
    }
   ],
   "source": [
    "# Basic Plotting using dictionary data.\n",
    "\n",
    "data = {\n",
    "    \"labels\": [\"North\", \"South\", \"East\", \"West\"],\n",
    "    \"values\": [10, 5, 8, 3]\n",
    "}\n",
    "\n",
    "bar = Bar(data=data, title=\"Regions\")\n",
    "bar.show()"
   ]
  },
  {
   "cell_type": "code",
   "execution_count": 16,
   "metadata": {},
   "outputs": [
    {
     "data": {
      "text/html": [
       "<html>\n",
       "<body>\n",
       "\n",
       "<div id=e91623aef86b41d0aafc384d89602ed4></div>\n",
       "\n",
       "<script src=\"https://requirejs.org/docs/release/2.3.6/minified/require.js\"></script>\n",
       "<script>\n",
       "require.config({paths: {roughViz: \"https://unpkg.com/rough-viz@1.0.5/dist/roughviz.min\"}});\n",
       "require([\"roughViz\"], function(roughViz) {\n",
       "\n",
       "new roughViz.Bar(\n",
       "  {\"data\": {\"labels\": [\"North\", \"South\", \"East\", \"West\"], \"values\": [10, 5, 8, 3]}, \"title\": \"Regions\", \"width\": 800, \"height\": 600, \"interactive\": true, \"bowing\": 0.2, \"fill_style\": \"cross-hatch\", \"fill_weight\": 0, \"stroke_width\": 1, \"roughness\": 1, \"xLabel\": \"Region\", \"yLabel\": \"Number\", \"axisFontSize\": \"1.5rem\", \"labelFontSize\": \"3rem\", \"color\": \"skyblue\", \"axisRoughness\": 0.5, \"highlight\": \"green\", \"innerStrokeWidth\": 0, \"padding\": 0.1, \"simplification\": 0.2, \"stroke\": \"black\", \"element\": \"#e91623aef86b41d0aafc384d89602ed4\"}\n",
       ");\n",
       "\tvar text = document.querySelectorAll(\".xAxise91623aef86b41d0aafc384d89602ed4 .tick text\");\n",
       "\tvar i;\n",
       "\tfor (i = 0; i < text.length; i++) {\n",
       "\t\ttext[i].setAttribute(\"transform\", \"rotate(0)\");\n",
       "\t\ttext[i].style.textAnchor=\"middle\";\n",
       "\t}\n",
       "\tdocument.getElementById(\"e91623aef86b41d0aafc384d89602ed4\").style.height = \"px\";\n",
       "\tdocument.querySelector(\"#e91623aef86b41d0aafc384d89602ed4 svg\").style.height = \"px\";\n",
       "});\n",
       "</script>\n",
       "\n",
       "</body>\n",
       "</html>"
      ],
      "text/plain": [
       "<IPython.core.display.HTML object>"
      ]
     },
     "metadata": {},
     "output_type": "display_data"
    }
   ],
   "source": [
    "# Except setting options during initialization, you could also add options alongside\n",
    "\n",
    "data = {\n",
    "    \"labels\": [\"North\", \"South\", \"East\", \"West\"],\n",
    "    \"values\": [10, 5, 8, 3]\n",
    "}\n",
    "\n",
    "bar = Bar(data=data, title=\"Regions\")\n",
    "bar.set_xlabel(\"Region\", font=3)\n",
    "bar.set_ylabel(\"Number\", font=3)\n",
    "bar.show()"
   ]
  },
  {
   "cell_type": "code",
   "execution_count": 18,
   "metadata": {},
   "outputs": [
    {
     "data": {
      "text/html": [
       "<html>\n",
       "<body>\n",
       "\n",
       "<div id=efb5bc00f38f42939be7909483a00de6></div>\n",
       "\n",
       "<script src=\"https://requirejs.org/docs/release/2.3.6/minified/require.js\"></script>\n",
       "<script>\n",
       "require.config({paths: {roughViz: \"https://unpkg.com/rough-viz@1.0.5/dist/roughviz.min\"}});\n",
       "require([\"roughViz\"], function(roughViz) {\n",
       "\n",
       "new roughViz.Bar(\n",
       "  {\"data\": {\"labels\": [\"North\", \"South\", \"East\", \"West\"], \"values\": [10, 5, 8, 3]}, \"title\": \"Regions\", \"width\": 800, \"height\": 600, \"interactive\": true, \"bowing\": 0.2, \"fill_style\": \"cross-hatch\", \"fill_weight\": 0, \"stroke_width\": 1, \"roughness\": 1, \"xLabel\": \"Region\", \"yLabel\": \"Number\", \"axisFontSize\": \"1.5rem\", \"labelFontSize\": \"2rem\", \"color\": \"orange\", \"axisRoughness\": 0.5, \"highlight\": \"green\", \"innerStrokeWidth\": 0, \"padding\": 0.1, \"simplification\": 0.2, \"stroke\": \"black\", \"element\": \"#efb5bc00f38f42939be7909483a00de6\"}\n",
       ");\n",
       "\tvar text = document.querySelectorAll(\".xAxisefb5bc00f38f42939be7909483a00de6 .tick text\");\n",
       "\tvar i;\n",
       "\tfor (i = 0; i < text.length; i++) {\n",
       "\t\ttext[i].setAttribute(\"transform\", \"rotate(0)\");\n",
       "\t\ttext[i].style.textAnchor=\"middle\";\n",
       "\t}\n",
       "\tdocument.getElementById(\"efb5bc00f38f42939be7909483a00de6\").style.height = \"px\";\n",
       "\tdocument.querySelector(\"#efb5bc00f38f42939be7909483a00de6 svg\").style.height = \"px\";\n",
       "});\n",
       "</script>\n",
       "\n",
       "</body>\n",
       "</html>"
      ],
      "text/plain": [
       "<IPython.core.display.HTML object>"
      ]
     },
     "metadata": {},
     "output_type": "display_data"
    }
   ],
   "source": [
    "# Or you could add options in a dictionary and add them in one go\n",
    "\n",
    "data = {\n",
    "    \"labels\": [\"North\", \"South\", \"East\", \"West\"],\n",
    "    \"values\": [10, 5, 8, 3]\n",
    "}\n",
    "\n",
    "bar = Bar(data=data, title=\"Regions\")\n",
    "bar.set_options(xlabel=\"Region\", ylabel=\"Number\", color=\"orange\")\n",
    "bar.show()"
   ]
  },
  {
   "cell_type": "code",
   "execution_count": null,
   "metadata": {},
   "outputs": [],
   "source": []
  }
 ],
 "metadata": {
  "kernelspec": {
   "display_name": "Python 3",
   "language": "python",
   "name": "python3"
  },
  "language_info": {
   "codemirror_mode": {
    "name": "ipython",
    "version": 3
   },
   "file_extension": ".py",
   "mimetype": "text/x-python",
   "name": "python",
   "nbconvert_exporter": "python",
   "pygments_lexer": "ipython3",
   "version": "3.7.3"
  }
 },
 "nbformat": 4,
 "nbformat_minor": 2
}
